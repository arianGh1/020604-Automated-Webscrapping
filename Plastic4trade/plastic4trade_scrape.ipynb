{
 "cells": [
  {
   "cell_type": "code",
   "execution_count": 1,
   "id": "98e13caa-4482-46d8-bfa2-06d7b067ab90",
   "metadata": {
    "tags": []
   },
   "outputs": [],
   "source": [
    "import time\n",
    "import requests\n",
    "from selenium import webdriver\n",
    "from bs4 import BeautifulSoup\n",
    "from urllib.parse import urljoin\n",
    "import csv\n",
    "import pickle\n",
    "import numpy as np\n",
    "import pandas as pd\n",
    "import pickle\n",
    "\n",
    "from multiprocessing import Process\n",
    "from multiprocessing import Pool\n",
    "from selenium.webdriver.chrome.options import Options\n",
    "from selenium.webdriver.common.desired_capabilities import DesiredCapabilities\n",
    "from selenium.webdriver.common.by import By\n",
    "from selenium.common.exceptions import NoSuchElementException\n",
    "from selenium.webdriver.common.keys import Keys"
   ]
  },
  {
   "cell_type": "code",
   "execution_count": 2,
   "id": "c3f48ba3-f9a1-4f7f-9635-b0d2ea9671dd",
   "metadata": {
    "tags": []
   },
   "outputs": [],
   "source": [
    "\n",
    "options = Options()\n",
    "\n",
    "options.add_argument('--user-data-dir=/Users/Arian_Gh/AppData/Local/Google/Chrome/User Data/') \n",
    "options.add_argument('--profile-directory=Profile 6')\n",
    "options.add_argument(\"--disable-extensions\")\n",
    "options.add_argument('--disable-blink-features=AutomationControlled')\n",
    "options.add_argument(\"--start-maximized\")\n",
    "\n",
    "options.add_argument('disable-infobars')\n",
    "options.add_experimental_option(\"excludeSwitches\", [\"enable-automation\"])\n",
    "options.add_experimental_option('useAutomationExtension', False)\n",
    "options.add_argument(\"--remote-debugging-port=9222\")\n",
    "user_agent = \"Mozilla/5.0 (Windows NT 10.0; Win64; x64) AppleWebKit/537.36 (KHTML, like Gecko) Chrome/89.0.4389.82 Safari/537.36\"\n",
    "options.add_argument(f'user-agent={user_agent}')\n",
    "\n",
    "prefs = {\n",
    "    \"profile.default_content_setting_values.images\": 2\n",
    "}\n",
    "options.add_experimental_option(\"prefs\", prefs)\n",
    "\n",
    "# Add a preference to disable image loading\n",
    "\n",
    "\n",
    "capabilities = DesiredCapabilities.CHROME.copy()\n",
    "capabilities['acceptSslCerts'] = True\n",
    "capabilities['acceptInsecureCerts'] = True\n",
    "\n",
    "\n"
   ]
  },
  {
   "cell_type": "code",
   "execution_count": 3,
   "id": "02eaab5e-87e6-41cf-93c4-4d00d709688a",
   "metadata": {
    "tags": []
   },
   "outputs": [],
   "source": [
    "driver = webdriver.Chrome(options=options , desired_capabilities=capabilities)\n",
    "driver.get(\"https://www.plastic4trade.com/\")"
   ]
  },
  {
   "cell_type": "code",
   "execution_count": 17,
   "id": "732954c6-f729-4bbf-b7e7-3324d420586c",
   "metadata": {
    "tags": []
   },
   "outputs": [],
   "source": [
    "with open(\"CategoryUrls\",\"rb\") as f:\n",
    "    category_urls = pickle.load(f)"
   ]
  },
  {
   "cell_type": "code",
   "execution_count": 19,
   "id": "23aa8108-9279-4378-bf64-627739f0aad3",
   "metadata": {
    "tags": []
   },
   "outputs": [],
   "source": [
    "driver.get(category_urls[0])"
   ]
  },
  {
   "cell_type": "code",
   "execution_count": 20,
   "id": "deb0e34d-e150-43b5-9d63-0c47ccda70a4",
   "metadata": {
    "tags": []
   },
   "outputs": [],
   "source": [
    "sale_btn = driver.find_element(By.XPATH,\"//*[@id='salepostcategory']/div/a/button\")\n",
    "buy_btn = driver.find_element(By.XPATH,\"//*[@id='buypostcategory']/div/a/button\")"
   ]
  },
  {
   "cell_type": "code",
   "execution_count": 21,
   "id": "84aab609-9f5f-48df-b704-b807543ae299",
   "metadata": {
    "tags": []
   },
   "outputs": [],
   "source": [
    "sale_btn.click()"
   ]
  },
  {
   "cell_type": "code",
   "execution_count": 24,
   "id": "887d65c4-9f23-4296-99b6-9b526a4f675f",
   "metadata": {
    "tags": []
   },
   "outputs": [],
   "source": [
    "html_text = driver.page_source\n",
    "soup = BeautifulSoup(html_text,\"lxml\")"
   ]
  },
  {
   "cell_type": "code",
   "execution_count": 43,
   "id": "9397a547-dcd2-4cfa-b731-ec0be9cb8e47",
   "metadata": {
    "tags": []
   },
   "outputs": [],
   "source": [
    "for category_url in category_urls:\n",
    "    products_part = soup.find(\"div\",class_=\"news-detail-right-main\")\n",
    "    products = products_part.find_all(\"div\",class_=\"col-lg-3 col-md-3 col-sm-12 col-xs-12\")\n",
    "    details = {}\n",
    "    for product in products:\n",
    "        details[\"name\"] = product.find(\"h6\").text\n",
    "        details[\"link\"] = product.find(\"a\")[\"href\"]\n",
    "        details[\"price\"] = product.find_all(\"div\")[-1].text.strip()\n",
    "        details[\"category\"] = category_url.split(\"/\")[-2]\n",
    "        details[\"type\"] = \"sell\" if is_sell else \"buy\""
   ]
  }
 ],
 "metadata": {
  "kernelspec": {
   "display_name": "Python 3 (ipykernel)",
   "language": "python",
   "name": "python3"
  },
  "language_info": {
   "codemirror_mode": {
    "name": "ipython",
    "version": 3
   },
   "file_extension": ".py",
   "mimetype": "text/x-python",
   "name": "python",
   "nbconvert_exporter": "python",
   "pygments_lexer": "ipython3",
   "version": "3.10.11"
  }
 },
 "nbformat": 4,
 "nbformat_minor": 5
}
