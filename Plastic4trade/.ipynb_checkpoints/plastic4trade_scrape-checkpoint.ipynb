{
 "cells": [
  {
   "cell_type": "code",
   "execution_count": 1,
   "id": "98e13caa-4482-46d8-bfa2-06d7b067ab90",
   "metadata": {
    "tags": []
   },
   "outputs": [],
   "source": [
    "import time\n",
    "import requests\n",
    "from selenium import webdriver\n",
    "from bs4 import BeautifulSoup\n",
    "from urllib.parse import urljoin\n",
    "import csv\n",
    "import pickle\n",
    "import numpy as np\n",
    "import pandas as pd\n",
    "import pickle\n",
    "\n",
    "from multiprocessing import Process\n",
    "from multiprocessing import Pool\n",
    "from selenium.webdriver.chrome.options import Options\n",
    "from selenium.webdriver.common.desired_capabilities import DesiredCapabilities\n",
    "from selenium.webdriver.common.by import By\n",
    "from selenium.common.exceptions import NoSuchElementException\n",
    "from selenium.webdriver.common.keys import Keys"
   ]
  },
  {
   "cell_type": "code",
   "execution_count": 2,
   "id": "c3f48ba3-f9a1-4f7f-9635-b0d2ea9671dd",
   "metadata": {
    "tags": []
   },
   "outputs": [],
   "source": [
    "\n",
    "options = Options()\n",
    "\n",
    "options.add_argument('--user-data-dir=/Users/Administrator/AppData/Local/Google/Chrome/User Data/') \n",
    "options.add_argument('--profile-directory=Profile 1')\n",
    "options.add_argument(\"--disable-extensions\")\n",
    "options.add_argument('--disable-blink-features=AutomationControlled')\n",
    "options.add_argument(\"--start-maximized\")\n",
    "\n",
    "options.add_argument('disable-infobars')\n",
    "options.add_experimental_option(\"excludeSwitches\", [\"enable-automation\"])\n",
    "options.add_experimental_option('useAutomationExtension', False)\n",
    "options.add_argument(\"--remote-debugging-port=9222\")\n",
    "user_agent = \"Mozilla/5.0 (Windows NT 10.0; Win64; x64) AppleWebKit/537.36 (KHTML, like Gecko) Chrome/89.0.4389.82 Safari/537.36\"\n",
    "options.add_argument(f'user-agent={user_agent}')\n",
    "\n",
    "prefs = {\n",
    "    \"profile.default_content_setting_values.images\": 2\n",
    "}\n",
    "options.add_experimental_option(\"prefs\", prefs)\n",
    "\n",
    "capabilities = DesiredCapabilities.CHROME.copy()\n",
    "capabilities['acceptSslCerts'] = True\n",
    "capabilities['acceptInsecureCerts'] = True"
   ]
  },
  {
   "cell_type": "code",
   "execution_count": 4,
   "id": "732954c6-f729-4bbf-b7e7-3324d420586c",
   "metadata": {
    "tags": []
   },
   "outputs": [],
   "source": [
    "with open(\"CategoryUrls\",\"rb\") as f:\n",
    "    category_urls = pickle.load(f)"
   ]
  },
  {
   "cell_type": "code",
   "execution_count": 51,
   "id": "9397a547-dcd2-4cfa-b731-ec0be9cb8e47",
   "metadata": {
    "tags": []
   },
   "outputs": [],
   "source": [
    "all_details = {}\n",
    "index = 0\n",
    "count = 0\n",
    "for category_url in category_urls:\n",
    "    \n",
    "    driver.get(category_url)\n",
    "    time.sleep(3)\n",
    "    \n",
    "    sale_btn = driver.find_element(By.XPATH,\"//*[@id='salepostcategory']/div/a/button\")\n",
    "    \n",
    "    \n",
    "    sale_btn.click()\n",
    "    time.sleep(3)\n",
    "    html_text = driver.page_source\n",
    "    soup = BeautifulSoup(html_text,\"lxml\")\n",
    "    products_part = soup.find(\"div\",class_=\"news-detail-right-main\")\n",
    "    products = products_part.find_all(\"div\",class_=\"col-lg-3 col-md-3 col-sm-12 col-xs-12\")\n",
    "    for product in products:\n",
    "        details = {}\n",
    "        \n",
    "        details[\"name\"] = product.find(\"h6\").text\n",
    "        details[\"link\"] = product.find(\"a\")[\"href\"]\n",
    "        details[\"price\"] = product.find_all(\"div\")[-1].text.strip()\n",
    "        details[\"category\"] = category_url.split(\"/\")[-2]\n",
    "        details[\"type\"] = \"sale\"\n",
    "        \n",
    "        all_details[index] = details\n",
    "        index += 1\n",
    "\n",
    "    driver.get(category_url)\n",
    "    time.sleep(3)\n",
    "    \n",
    "    buy_btn = driver.find_element(By.XPATH,\"//*[@id='buypostcategory']/div/a/button\")\n",
    "\n",
    "    \n",
    "    buy_btn.click()\n",
    "    time.sleep(3)\n",
    "    html_text = driver.page_source\n",
    "    soup = BeautifulSoup(html_text,\"lxml\")\n",
    "    products_part = soup.find(\"div\",class_=\"news-detail-right-main\")\n",
    "    products = products_part.find_all(\"div\",class_=\"col-lg-3 col-md-3 col-sm-12 col-xs-12\")\n",
    "   \n",
    "    for product in products:\n",
    "        details = {}\n",
    "        \n",
    "        details[\"name\"] = product.find(\"h6\").text\n",
    "        details[\"link\"] = product.find(\"a\")[\"href\"]\n",
    "        details[\"price\"] = product.find_all(\"div\")[-1].text.strip()\n",
    "        details[\"category\"] = category_url.split(\"/\")[-2]\n",
    "        details[\"type\"] = \"buy\"\n",
    "        \n",
    "        all_details[index] = details\n",
    "        index += 1\n",
    "    count+=1\n",
    "    if count%5 == 0:\n",
    "        driver.close()\n",
    "    "
   ]
  },
  {
   "cell_type": "code",
   "execution_count": null,
   "id": "4cac77d7-76a2-49c9-8f98-00e06d1deddd",
   "metadata": {
    "tags": []
   },
   "outputs": [],
   "source": []
  },
  {
   "cell_type": "code",
   "execution_count": null,
   "id": "a1575d6e-708e-40f6-a224-3a4fecd310e0",
   "metadata": {},
   "outputs": [],
   "source": []
  }
 ],
 "metadata": {
  "kernelspec": {
   "display_name": "Python 3 (ipykernel)",
   "language": "python",
   "name": "python3"
  },
  "language_info": {
   "codemirror_mode": {
    "name": "ipython",
    "version": 3
   },
   "file_extension": ".py",
   "mimetype": "text/x-python",
   "name": "python",
   "nbconvert_exporter": "python",
   "pygments_lexer": "ipython3",
   "version": "3.10.10"
  }
 },
 "nbformat": 4,
 "nbformat_minor": 5
}
