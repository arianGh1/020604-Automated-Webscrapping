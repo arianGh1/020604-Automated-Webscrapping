{
 "cells": [
  {
   "cell_type": "code",
   "execution_count": 1,
   "id": "26eee812-a5d0-4b79-b566-25ee6fed9208",
   "metadata": {
    "tags": []
   },
   "outputs": [],
   "source": [
    "import time\n",
    "import requests\n",
    "from selenium import webdriver\n",
    "from bs4 import BeautifulSoup\n",
    "from urllib.parse import urljoin\n",
    "import csv\n",
    "import pickle\n",
    "import numpy as np\n",
    "import pandas as pd\n",
    "import pickle\n",
    "import jdatetime\n",
    "import matplotlib.pyplot as plt\n",
    "import seaborn as sns\n",
    "from bidi.algorithm import get_display\n",
    "from arabic_reshaper import reshape\n",
    "import arabic_reshaper\n",
    "import geopandas\n",
    "import geopandas as gpd\n",
    "#starting date = 29 tir"
   ]
  },
  {
   "cell_type": "code",
   "execution_count": null,
   "id": "529ace4f-0b25-4781-ae97-1742544fefa0",
   "metadata": {},
   "outputs": [],
   "source": []
  }
 ],
 "metadata": {
  "kernelspec": {
   "display_name": "Python 3 (ipykernel)",
   "language": "python",
   "name": "python3"
  },
  "language_info": {
   "codemirror_mode": {
    "name": "ipython",
    "version": 3
   },
   "file_extension": ".py",
   "mimetype": "text/x-python",
   "name": "python",
   "nbconvert_exporter": "python",
   "pygments_lexer": "ipython3",
   "version": "3.10.11"
  }
 },
 "nbformat": 4,
 "nbformat_minor": 5
}
