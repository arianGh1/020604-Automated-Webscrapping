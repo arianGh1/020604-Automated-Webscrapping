{
 "cells": [
  {
   "cell_type": "code",
   "execution_count": 65,
   "id": "26eee812-a5d0-4b79-b566-25ee6fed9208",
   "metadata": {
    "tags": []
   },
   "outputs": [],
   "source": [
    "import time\n",
    "import requests\n",
    "from selenium import webdriver\n",
    "from bs4 import BeautifulSoup\n",
    "from urllib.parse import urljoin\n",
    "import csv\n",
    "import pickle\n",
    "import numpy as np\n",
    "import pandas as pd\n",
    "import pickle\n",
    "\n",
    "from multiprocessing import Process\n",
    "from multiprocessing import Pool\n",
    "from selenium.webdriver.chrome.options import Options\n",
    "from selenium.webdriver.common.desired_capabilities import DesiredCapabilities\n",
    "from selenium.webdriver.common.by import By\n",
    "from selenium.common.exceptions import NoSuchElementException"
   ]
  },
  {
   "cell_type": "code",
   "execution_count": 69,
   "id": "8ef7dc24-5e32-4e32-bc3f-8930ed608fc5",
   "metadata": {},
   "outputs": [],
   "source": [
    "options = Options()\n",
    "\n",
    "options.add_argument('--user-data-dir=/Users/Arian_Gh/AppData/Local/Google/Chrome/User Data/') \n",
    "options.add_argument('--profile-directory=Profile 6')\n",
    "options.add_argument(\"--disable-extensions\")\n",
    "options.add_argument('--disable-blink-features=AutomationControlled')\n",
    "\n",
    "\n",
    "options.add_argument('disable-infobars')\n",
    "options.add_experimental_option(\"excludeSwitches\", [\"enable-automation\"])\n",
    "options.add_experimental_option('useAutomationExtension', False)\n",
    "options.add_argument(\"--remote-debugging-port=9222\")\n",
    "user_agent = \"Mozilla/5.0 (Windows NT 10.0; Win64; x64) AppleWebKit/537.36 (KHTML, like Gecko) Chrome/89.0.4389.82 Safari/537.36\"\n",
    "options.add_argument(f'user-agent={user_agent}')\n",
    "\n",
    "prefs = {\n",
    "    \"profile.default_content_setting_values.images\": 2\n",
    "}\n",
    "options.add_experimental_option(\"prefs\", prefs)\n",
    "\n",
    "# Add a preference to disable image loading\n",
    "\n",
    "\n",
    "capabilities = DesiredCapabilities.CHROME.copy()\n",
    "capabilities['acceptSslCerts'] = True\n",
    "capabilities['acceptInsecureCerts'] = True\n",
    "\n",
    "\n",
    "driver = webdriver.Chrome(options=options , desired_capabilities=capabilities)"
   ]
  },
  {
   "cell_type": "code",
   "execution_count": 70,
   "id": "9264c1dd-2dbd-4eb4-8678-24b3ff46f214",
   "metadata": {
    "tags": []
   },
   "outputs": [],
   "source": [
    "driver.get(\"https://dir.indiamart.com/search.mp?ss=scrap&prdsrc=1&stype=attr=1|attrS&res=RC4&qu-comp=to\")"
   ]
  },
  {
   "cell_type": "code",
   "execution_count": 71,
   "id": "c3944703-e836-4f10-b267-bac86e8d4766",
   "metadata": {
    "tags": []
   },
   "outputs": [],
   "source": [
    "file_path = 'categories.txt'\n",
    "\n",
    "categories = []\n",
    "\n",
    "with open(file_path, 'r') as file:\n",
    "    for line in file:     \n",
    "        category = line.strip()\n",
    "        categories.append(category)"
   ]
  },
  {
   "cell_type": "code",
   "execution_count": 74,
   "id": "8b463efb-40cd-4f6b-9c6c-eb7fd38ae7dc",
   "metadata": {
    "tags": []
   },
   "outputs": [
    {
     "ename": "IndentationError",
     "evalue": "expected an indented block after 'if' statement on line 25 (2405441947.py, line 26)",
     "output_type": "error",
     "traceback": [
      "\u001b[1;36m  Cell \u001b[1;32mIn[74], line 26\u001b[1;36m\u001b[0m\n\u001b[1;33m    urls.append(url)\u001b[0m\n\u001b[1;37m    ^\u001b[0m\n\u001b[1;31mIndentationError\u001b[0m\u001b[1;31m:\u001b[0m expected an indented block after 'if' statement on line 25\n"
     ]
    }
   ],
   "source": [
    "\n",
    "all_details = {}\n",
    "index = 0\n",
    "urls = []\n",
    "soup_old = \"\"\n",
    "while True:\n",
    "    \n",
    "    html_text = driver.page_source\n",
    "    soup = BeautifulSoup(html_text,\"lxml\")\n",
    "    \n",
    "    products = soup.find(\"div\",class_='right-group flx1 df fww pr')\n",
    "    sections = products.find_all(\"section\")\n",
    "\n",
    "    for section in sections:\n",
    "        details={}\n",
    "        try:\n",
    "            name = section.find(\"a\",class_=\"prd-name\").text\n",
    "            price = section.find(\"span\",class_=\"elps elps2 fs14 tac clr7\").text\n",
    "            url = section.find(\"a\",class_=\"prd-name\")[\"href\"].split(\" \")[0]\n",
    "            if url in urls:\n",
    "                continue\n",
    "\n",
    "            details[\"name\"]= name\n",
    "            details[\"price\"] = price\n",
    "            details[\"url\"] = url\n",
    "\n",
    "            urls.append(url)\n",
    "            all_details[index] = details\n",
    "            index+=1\n",
    "        except:\n",
    "            try:\n",
    "                name = section.find(\"span\",class_=\"noPdp prd-name\").text\n",
    "                price = section.find(\"span\",class_=\"elps elps2 fs14 tac clr7\").text\n",
    "                url = None\n",
    "                details[\"name\"]= name\n",
    "                details[\"price\"] = price\n",
    "                details[\"url\"] = url\n",
    "                all_details[index] = details\n",
    "                index+=1\n",
    "            except:\n",
    "                continue\n",
    "    \n",
    "    driver.execute_script(\"window.scrollTo(0, document.body.scrollHeight);\")\n",
    "    if soup_old == soup:\n",
    "        break\n",
    "    else:\n",
    "        print(\"yeki nistan motasefane XD\")\n",
    "        soup_old = soup\n",
    "    try:\n",
    "        btn = driver.find_element(By.XPATH, \"//*[@id='app']/div/main/div[4]/div[2]/div[2]/span\")\n",
    "\n",
    "        driver.execute_script(\"arguments[0].click();\",btn)\n",
    "        \n",
    "    except:\n",
    "        break"
   ]
  },
  {
   "cell_type": "code",
   "execution_count": null,
   "id": "d859bf9d-7212-4ff6-8660-76f2da1bd289",
   "metadata": {
    "tags": []
   },
   "outputs": [],
   "source": []
  },
  {
   "cell_type": "code",
   "execution_count": 76,
   "id": "7477a2a7-a886-4b02-b058-26d8caf2bbbc",
   "metadata": {
    "tags": []
   },
   "outputs": [],
   "source": [
    "df = pd.DataFrame().from_dict(all_details).T"
   ]
  },
  {
   "cell_type": "code",
   "execution_count": null,
   "id": "0da3c782-3469-4619-8dfd-f13d1585f8fd",
   "metadata": {
    "tags": []
   },
   "outputs": [],
   "source": []
  },
  {
   "cell_type": "code",
   "execution_count": null,
   "id": "1481ade3-ca82-4947-8e7b-80dc0d354283",
   "metadata": {},
   "outputs": [],
   "source": []
  }
 ],
 "metadata": {
  "kernelspec": {
   "display_name": "Python 3 (ipykernel)",
   "language": "python",
   "name": "python3"
  },
  "language_info": {
   "codemirror_mode": {
    "name": "ipython",
    "version": 3
   },
   "file_extension": ".py",
   "mimetype": "text/x-python",
   "name": "python",
   "nbconvert_exporter": "python",
   "pygments_lexer": "ipython3",
   "version": "3.10.11"
  }
 },
 "nbformat": 4,
 "nbformat_minor": 5
}
