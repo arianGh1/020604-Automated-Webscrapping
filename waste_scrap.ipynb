{
 "cells": [
  {
   "cell_type": "code",
   "execution_count": 128,
   "id": "26eee812-a5d0-4b79-b566-25ee6fed9208",
   "metadata": {
    "tags": []
   },
   "outputs": [],
   "source": [
    "import time\n",
    "import requests\n",
    "from selenium import webdriver\n",
    "from bs4 import BeautifulSoup\n",
    "from urllib.parse import urljoin\n",
    "import csv\n",
    "import pickle\n",
    "import numpy as np\n",
    "import pandas as pd\n",
    "import pickle\n",
    "\n",
    "from multiprocessing import Process\n",
    "from multiprocessing import Pool\n",
    "from selenium.webdriver.chrome.options import Options\n",
    "from selenium.webdriver.common.desired_capabilities import DesiredCapabilities\n",
    "from selenium.webdriver.common.by import By\n",
    "from selenium.common.exceptions import NoSuchElementException\n",
    "from selenium.webdriver.common.keys import Keys"
   ]
  },
  {
   "cell_type": "code",
   "execution_count": 135,
   "id": "8ef7dc24-5e32-4e32-bc3f-8930ed608fc5",
   "metadata": {},
   "outputs": [],
   "source": [
    "\n",
    "options = Options()\n",
    "\n",
    "options.add_argument('--user-data-dir=/Users/Arian_Gh/AppData/Local/Google/Chrome/User Data/') \n",
    "options.add_argument('--profile-directory=Profile 6')\n",
    "options.add_argument(\"--disable-extensions\")\n",
    "options.add_argument('--disable-blink-features=AutomationControlled')\n",
    "options.add_argument(\"--start-maximized\")\n",
    "\n",
    "options.add_argument('disable-infobars')\n",
    "options.add_experimental_option(\"excludeSwitches\", [\"enable-automation\"])\n",
    "options.add_experimental_option('useAutomationExtension', False)\n",
    "options.add_argument(\"--remote-debugging-port=9222\")\n",
    "user_agent = \"Mozilla/5.0 (Windows NT 10.0; Win64; x64) AppleWebKit/537.36 (KHTML, like Gecko) Chrome/89.0.4389.82 Safari/537.36\"\n",
    "options.add_argument(f'user-agent={user_agent}')\n",
    "\n",
    "prefs = {\n",
    "    \"profile.default_content_setting_values.images\": 2\n",
    "}\n",
    "options.add_experimental_option(\"prefs\", prefs)\n",
    "\n",
    "# Add a preference to disable image loading\n",
    "\n",
    "\n",
    "capabilities = DesiredCapabilities.CHROME.copy()\n",
    "capabilities['acceptSslCerts'] = True\n",
    "capabilities['acceptInsecureCerts'] = True\n",
    "\n",
    "\n"
   ]
  },
  {
   "cell_type": "code",
   "execution_count": 136,
   "id": "c3944703-e836-4f10-b267-bac86e8d4766",
   "metadata": {
    "tags": []
   },
   "outputs": [],
   "source": [
    "file_path = 'categories.txt'\n",
    "\n",
    "categories = []\n",
    "\n",
    "with open(file_path, 'r') as file:\n",
    "    for line in file:     \n",
    "        category = line.strip()\n",
    "        categories.append(category)"
   ]
  },
  {
   "cell_type": "code",
   "execution_count": 138,
   "id": "8b463efb-40cd-4f6b-9c6c-eb7fd38ae7dc",
   "metadata": {
    "tags": []
   },
   "outputs": [
    {
     "name": "stdout",
     "output_type": "stream",
     "text": [
      "Category:Steel Scrap----Category Number:9----Dict_Length:835ngth:824\r"
     ]
    },
    {
     "ename": "WebDriverException",
     "evalue": "Message: unknown error: net::ERR_NAME_NOT_RESOLVED\n  (Session info: chrome=116.0.5845.111)\nStacktrace:\n\tGetHandleVerifier [0x00007FF7F7A252A2+57122]\n\t(No symbol) [0x00007FF7F799EA92]\n\t(No symbol) [0x00007FF7F786E3AB]\n\t(No symbol) [0x00007FF7F786A161]\n\t(No symbol) [0x00007FF7F785CADF]\n\t(No symbol) [0x00007FF7F785DE82]\n\t(No symbol) [0x00007FF7F785CEB8]\n\t(No symbol) [0x00007FF7F785BFBE]\n\t(No symbol) [0x00007FF7F785BF63]\n\t(No symbol) [0x00007FF7F785A9E5]\n\t(No symbol) [0x00007FF7F785B153]\n\t(No symbol) [0x00007FF7F786FF4B]\n\t(No symbol) [0x00007FF7F78DEEF7]\n\t(No symbol) [0x00007FF7F78C6FDA]\n\t(No symbol) [0x00007FF7F78DEB82]\n\t(No symbol) [0x00007FF7F78C6DB3]\n\t(No symbol) [0x00007FF7F789D2B1]\n\t(No symbol) [0x00007FF7F789E494]\n\tGetHandleVerifier [0x00007FF7F7CCEF82+2849794]\n\tGetHandleVerifier [0x00007FF7F7D21D24+3189156]\n\tGetHandleVerifier [0x00007FF7F7D1ACAF+3160367]\n\tGetHandleVerifier [0x00007FF7F7AB6D06+653702]\n\t(No symbol) [0x00007FF7F79AA208]\n\t(No symbol) [0x00007FF7F79A62C4]\n\t(No symbol) [0x00007FF7F79A63F6]\n\t(No symbol) [0x00007FF7F79967A3]\n\tBaseThreadInitThunk [0x00007FFA4E8E7614+20]\n\tRtlUserThreadStart [0x00007FFA4FA826F1+33]\n",
     "output_type": "error",
     "traceback": [
      "\u001b[1;31m---------------------------------------------------------------------------\u001b[0m",
      "\u001b[1;31mWebDriverException\u001b[0m                        Traceback (most recent call last)",
      "Cell \u001b[1;32mIn[138], line 7\u001b[0m\n\u001b[0;32m      4\u001b[0m \u001b[38;5;28;01mfor\u001b[39;00m count,category \u001b[38;5;129;01min\u001b[39;00m \u001b[38;5;28menumerate\u001b[39m(categories):\n\u001b[0;32m      6\u001b[0m     driver \u001b[38;5;241m=\u001b[39m webdriver\u001b[38;5;241m.\u001b[39mChrome(options\u001b[38;5;241m=\u001b[39moptions , desired_capabilities\u001b[38;5;241m=\u001b[39mcapabilities)\n\u001b[1;32m----> 7\u001b[0m     \u001b[43mdriver\u001b[49m\u001b[38;5;241;43m.\u001b[39;49m\u001b[43mget\u001b[49m\u001b[43m(\u001b[49m\u001b[38;5;124;43m\"\u001b[39;49m\u001b[38;5;124;43mhttps://dir.indiamart.com/search.mp?ss=scrap&prdsrc=1&stype=attr=1|attrS&res=RC4&qu-comp=to\u001b[39;49m\u001b[38;5;124;43m\"\u001b[39;49m\u001b[43m)\u001b[49m\n\u001b[0;32m      9\u001b[0m     input_section \u001b[38;5;241m=\u001b[39m driver\u001b[38;5;241m.\u001b[39mfind_element(By\u001b[38;5;241m.\u001b[39mXPATH,\u001b[38;5;124m\"\u001b[39m\u001b[38;5;124m//*[@id=\u001b[39m\u001b[38;5;124m'\u001b[39m\u001b[38;5;124msearch_string\u001b[39m\u001b[38;5;124m'\u001b[39m\u001b[38;5;124m]\u001b[39m\u001b[38;5;124m\"\u001b[39m)\n\u001b[0;32m     10\u001b[0m     input_section\u001b[38;5;241m.\u001b[39mclear()\n",
      "File \u001b[1;32mG:\\Users\\Arian_Gh\\AppData\\Local\\Programs\\Python\\Python310\\lib\\site-packages\\selenium\\webdriver\\remote\\webdriver.py:449\u001b[0m, in \u001b[0;36mWebDriver.get\u001b[1;34m(self, url)\u001b[0m\n\u001b[0;32m    447\u001b[0m \u001b[38;5;28;01mdef\u001b[39;00m \u001b[38;5;21mget\u001b[39m(\u001b[38;5;28mself\u001b[39m, url: \u001b[38;5;28mstr\u001b[39m) \u001b[38;5;241m-\u001b[39m\u001b[38;5;241m>\u001b[39m \u001b[38;5;28;01mNone\u001b[39;00m:\n\u001b[0;32m    448\u001b[0m \u001b[38;5;250m    \u001b[39m\u001b[38;5;124;03m\"\"\"Loads a web page in the current browser session.\"\"\"\u001b[39;00m\n\u001b[1;32m--> 449\u001b[0m     \u001b[38;5;28;43mself\u001b[39;49m\u001b[38;5;241;43m.\u001b[39;49m\u001b[43mexecute\u001b[49m\u001b[43m(\u001b[49m\u001b[43mCommand\u001b[49m\u001b[38;5;241;43m.\u001b[39;49m\u001b[43mGET\u001b[49m\u001b[43m,\u001b[49m\u001b[43m \u001b[49m\u001b[43m{\u001b[49m\u001b[38;5;124;43m\"\u001b[39;49m\u001b[38;5;124;43murl\u001b[39;49m\u001b[38;5;124;43m\"\u001b[39;49m\u001b[43m:\u001b[49m\u001b[43m \u001b[49m\u001b[43murl\u001b[49m\u001b[43m}\u001b[49m\u001b[43m)\u001b[49m\n",
      "File \u001b[1;32mG:\\Users\\Arian_Gh\\AppData\\Local\\Programs\\Python\\Python310\\lib\\site-packages\\selenium\\webdriver\\remote\\webdriver.py:440\u001b[0m, in \u001b[0;36mWebDriver.execute\u001b[1;34m(self, driver_command, params)\u001b[0m\n\u001b[0;32m    438\u001b[0m response \u001b[38;5;241m=\u001b[39m \u001b[38;5;28mself\u001b[39m\u001b[38;5;241m.\u001b[39mcommand_executor\u001b[38;5;241m.\u001b[39mexecute(driver_command, params)\n\u001b[0;32m    439\u001b[0m \u001b[38;5;28;01mif\u001b[39;00m response:\n\u001b[1;32m--> 440\u001b[0m     \u001b[38;5;28;43mself\u001b[39;49m\u001b[38;5;241;43m.\u001b[39;49m\u001b[43merror_handler\u001b[49m\u001b[38;5;241;43m.\u001b[39;49m\u001b[43mcheck_response\u001b[49m\u001b[43m(\u001b[49m\u001b[43mresponse\u001b[49m\u001b[43m)\u001b[49m\n\u001b[0;32m    441\u001b[0m     response[\u001b[38;5;124m\"\u001b[39m\u001b[38;5;124mvalue\u001b[39m\u001b[38;5;124m\"\u001b[39m] \u001b[38;5;241m=\u001b[39m \u001b[38;5;28mself\u001b[39m\u001b[38;5;241m.\u001b[39m_unwrap_value(response\u001b[38;5;241m.\u001b[39mget(\u001b[38;5;124m\"\u001b[39m\u001b[38;5;124mvalue\u001b[39m\u001b[38;5;124m\"\u001b[39m, \u001b[38;5;28;01mNone\u001b[39;00m))\n\u001b[0;32m    442\u001b[0m     \u001b[38;5;28;01mreturn\u001b[39;00m response\n",
      "File \u001b[1;32mG:\\Users\\Arian_Gh\\AppData\\Local\\Programs\\Python\\Python310\\lib\\site-packages\\selenium\\webdriver\\remote\\errorhandler.py:245\u001b[0m, in \u001b[0;36mErrorHandler.check_response\u001b[1;34m(self, response)\u001b[0m\n\u001b[0;32m    243\u001b[0m         alert_text \u001b[38;5;241m=\u001b[39m value[\u001b[38;5;124m\"\u001b[39m\u001b[38;5;124malert\u001b[39m\u001b[38;5;124m\"\u001b[39m]\u001b[38;5;241m.\u001b[39mget(\u001b[38;5;124m\"\u001b[39m\u001b[38;5;124mtext\u001b[39m\u001b[38;5;124m\"\u001b[39m)\n\u001b[0;32m    244\u001b[0m     \u001b[38;5;28;01mraise\u001b[39;00m exception_class(message, screen, stacktrace, alert_text)  \u001b[38;5;66;03m# type: ignore[call-arg]  # mypy is not smart enough here\u001b[39;00m\n\u001b[1;32m--> 245\u001b[0m \u001b[38;5;28;01mraise\u001b[39;00m exception_class(message, screen, stacktrace)\n",
      "\u001b[1;31mWebDriverException\u001b[0m: Message: unknown error: net::ERR_NAME_NOT_RESOLVED\n  (Session info: chrome=116.0.5845.111)\nStacktrace:\n\tGetHandleVerifier [0x00007FF7F7A252A2+57122]\n\t(No symbol) [0x00007FF7F799EA92]\n\t(No symbol) [0x00007FF7F786E3AB]\n\t(No symbol) [0x00007FF7F786A161]\n\t(No symbol) [0x00007FF7F785CADF]\n\t(No symbol) [0x00007FF7F785DE82]\n\t(No symbol) [0x00007FF7F785CEB8]\n\t(No symbol) [0x00007FF7F785BFBE]\n\t(No symbol) [0x00007FF7F785BF63]\n\t(No symbol) [0x00007FF7F785A9E5]\n\t(No symbol) [0x00007FF7F785B153]\n\t(No symbol) [0x00007FF7F786FF4B]\n\t(No symbol) [0x00007FF7F78DEEF7]\n\t(No symbol) [0x00007FF7F78C6FDA]\n\t(No symbol) [0x00007FF7F78DEB82]\n\t(No symbol) [0x00007FF7F78C6DB3]\n\t(No symbol) [0x00007FF7F789D2B1]\n\t(No symbol) [0x00007FF7F789E494]\n\tGetHandleVerifier [0x00007FF7F7CCEF82+2849794]\n\tGetHandleVerifier [0x00007FF7F7D21D24+3189156]\n\tGetHandleVerifier [0x00007FF7F7D1ACAF+3160367]\n\tGetHandleVerifier [0x00007FF7F7AB6D06+653702]\n\t(No symbol) [0x00007FF7F79AA208]\n\t(No symbol) [0x00007FF7F79A62C4]\n\t(No symbol) [0x00007FF7F79A63F6]\n\t(No symbol) [0x00007FF7F79967A3]\n\tBaseThreadInitThunk [0x00007FFA4E8E7614+20]\n\tRtlUserThreadStart [0x00007FFA4FA826F1+33]\n"
     ]
    }
   ],
   "source": [
    "all_details = {}\n",
    "index = 0\n",
    "urls = []\n",
    "for count,category in enumerate(categories):\n",
    "    \n",
    "    driver = webdriver.Chrome(options=options , desired_capabilities=capabilities)\n",
    "    driver.get(\"https://dir.indiamart.com/search.mp?ss=scrap&prdsrc=1&stype=attr=1|attrS&res=RC4&qu-comp=to\")\n",
    "    \n",
    "    input_section = driver.find_element(By.XPATH,\"//*[@id='search_string']\")\n",
    "    input_section.clear()\n",
    "    time.sleep(3)\n",
    "    input_section.send_keys(category)\n",
    "    time.sleep(5)\n",
    "    input_section.send_keys(Keys.ENTER)\n",
    "    time.sleep(4)\n",
    "\n",
    "\n",
    "    soup_old = \"\"\n",
    "    while True:\n",
    "        print(f'Category:{category}----Category Number:{count+1}----Dict_Length:{len(all_details)}',end='\\r')\n",
    "        html_text = driver.page_source\n",
    "        soup = BeautifulSoup(html_text,\"lxml\")\n",
    "\n",
    "        products = soup.find(\"div\",class_='right-group flx1 df fww pr')\n",
    "        sections = products.find_all(\"section\")\n",
    "\n",
    "        for section in sections:\n",
    "            details={}\n",
    "            try:\n",
    "                name = section.find(\"a\",class_=\"prd-name\").text\n",
    "                price = section.find(\"span\",class_=\"elps elps2 fs14 tac clr7\").text\n",
    "                url = section.find(\"a\",class_=\"prd-name\")[\"href\"].split(\" \")[0]\n",
    "                if url in urls:\n",
    "                    continue\n",
    "\n",
    "                details[\"name\"]= name\n",
    "                details[\"price\"] = price\n",
    "                details[\"url\"] = url\n",
    "                details[\"category\"] = category\n",
    "                \n",
    "                urls.append(url)\n",
    "                all_details[index] = details\n",
    "                index+=1\n",
    "            except:\n",
    "                \n",
    "                try:\n",
    "                    name = section.find(\"span\",class_=\"noPdp prd-name\").text\n",
    "                    price = section.find(\"span\",class_=\"elps elps2 fs14 tac clr7\").text\n",
    "                    url = None\n",
    "                    details[\"name\"]= name\n",
    "                    details[\"price\"] = price\n",
    "                    details[\"url\"] = url\n",
    "                    details[\"category\"] = category\n",
    "                    all_details[index] = details\n",
    "                    index+=1\n",
    "                except Exception as e:\n",
    "                    \n",
    "                    continue\n",
    "\n",
    "        driver.execute_script(\"window.scrollTo(0, document.body.scrollHeight);\")\n",
    "        driver.implicitly_wait(10)\n",
    "        \n",
    "        if soup_old == soup:\n",
    "            break\n",
    "        else:\n",
    "            \n",
    "            soup_old = soup\n",
    "        try:\n",
    "            btn = driver.find_element(By.XPATH, \"//*[@id='app']/div/main/div[4]/div[2]/div[2]/span\")\n",
    "\n",
    "            driver.execute_script(\"arguments[0].click();\",btn)\n",
    "\n",
    "        except:\n",
    "            break\n",
    "    driver.close()"
   ]
  },
  {
   "cell_type": "code",
   "execution_count": null,
   "id": "4205523c-6b33-48c2-9e65-b9bb0841ad7b",
   "metadata": {
    "tags": []
   },
   "outputs": [],
   "source": [
    "df = pd.DataFrame().from_dict(all_details).T\n",
    "df = df.drop_duplicates()\n",
    "df = df.reset_index()\n",
    "df.to_csv(index=False)"
   ]
  },
  {
   "cell_type": "code",
   "execution_count": null,
   "id": "a317c3d2-4c54-49d0-92bb-87d28908986c",
   "metadata": {},
   "outputs": [],
   "source": []
  }
 ],
 "metadata": {
  "kernelspec": {
   "display_name": "Python 3 (ipykernel)",
   "language": "python",
   "name": "python3"
  },
  "language_info": {
   "codemirror_mode": {
    "name": "ipython",
    "version": 3
   },
   "file_extension": ".py",
   "mimetype": "text/x-python",
   "name": "python",
   "nbconvert_exporter": "python",
   "pygments_lexer": "ipython3",
   "version": "3.10.11"
  }
 },
 "nbformat": 4,
 "nbformat_minor": 5
}
